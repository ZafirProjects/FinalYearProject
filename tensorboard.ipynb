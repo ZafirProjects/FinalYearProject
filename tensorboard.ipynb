{
 "cells": [
  {
   "cell_type": "code",
   "execution_count": null,
   "metadata": {},
   "outputs": [],
   "source": [
    "%load_ext tensorboard"
   ]
  },
  {
   "cell_type": "code",
   "execution_count": null,
   "metadata": {},
   "outputs": [],
   "source": [
    "import tensorflow as tf\n",
    "import datetime\n",
    "import numpy as np\n",
    "import os\n",
    "import csv\n",
    "\n",
    "from sklearn.preprocessing import MinMaxScaler\n",
    "from keras import layers, losses, Sequential\n",
    "from keras.models import Model\n",
    "from keras.optimizers import Adam\n",
    "from keras.callbacks import EarlyStopping"
   ]
  },
  {
   "cell_type": "code",
   "execution_count": null,
   "metadata": {},
   "outputs": [],
   "source": [
    "scaler = MinMaxScaler()\n",
    "benign = np.loadtxt('dataset/1.benign.csv', delimiter=\",\", skiprows=1)\n",
    "X_train = benign[:40000]\n",
    "X_test0 = benign[40000:]\n",
    "X_test1 = np.loadtxt(\"dataset/1.mirai.scan.csv\", delimiter=\",\", skiprows=1)\n",
    "X_test2 = np.loadtxt(\"dataset/1.mirai.ack.csv\", delimiter=\",\", skiprows=1)\n",
    "X_test3 = np.loadtxt(\"dataset/1.mirai.syn.csv\", delimiter=\",\", skiprows=1)\n",
    "X_test4 = np.loadtxt(\"dataset/1.mirai.udp.csv\", delimiter=\",\", skiprows=1)\n",
    "X_test5 = np.loadtxt(\"dataset/1.mirai.udpplain.csv\", delimiter=\",\", skiprows=1)"
   ]
  },
  {
   "cell_type": "code",
   "execution_count": null,
   "metadata": {},
   "outputs": [],
   "source": [
    "class Autoencoder(Model):\n",
    "    def __init__(self):\n",
    "        super(Autoencoder, self).__init__()\n",
    "        self.encoder = Sequential([\n",
    "            layers.Dense(115, activation=\"relu\"),\n",
    "            layers.Dense(86, activation=\"relu\"),\n",
    "            layers.Dense(57, activation=\"relu\"),\n",
    "            layers.Dense(37, activation=\"relu\"),\n",
    "            layers.Dense(28, activation=\"relu\")\n",
    "        ])\n",
    "        self.decoder = Sequential([\n",
    "            layers.Dense(37, activation=\"relu\"),\n",
    "            layers.Dense(57, activation=\"relu\"),\n",
    "            layers.Dense(86, activation=\"relu\"),\n",
    "            layers.Dense(115, activation=\"sigmoid\")\n",
    "        ])\n",
    "    \n",
    "    def call(self, x):\n",
    "        encoded = self.encoder(x)\n",
    "        decoded = self.decoder(encoded)\n",
    "        return decoded"
   ]
  },
  {
   "cell_type": "code",
   "execution_count": null,
   "metadata": {},
   "outputs": [],
   "source": [
    "x = scaler.fit_transform(X_train)\n",
    "            \n",
    "# create an autoencoder model\n",
    "ae = Autoencoder()\n",
    "ae.compile(optimizer=Adam(learning_rate=0.01), loss='mse', metrics=['accuracy'])\n",
    "monitor = EarlyStopping(\n",
    "    monitor='val_loss',\n",
    "    min_delta=1e-9,\n",
    "    patience=5,\n",
    "    verbose=1,\n",
    "    mode='auto'\n",
    ")\n",
    "\n",
    "log_dir = \"logs/fit/\" + datetime.datetime.now().strftime(\"%Y%m%d-%H%M%S\")\n",
    "tensorboard_callback = tf.keras.callbacks.TensorBoard(log_dir=log_dir, histogram_freq=1)\n",
    "\n",
    "ae.fit(\n",
    "    x=x,\n",
    "    y=x,\n",
    "    epochs=800,\n",
    "    validation_split=0.3,\n",
    "    shuffle=True,\n",
    "    callbacks=[monitor,tensorboard_callback]\n",
    ")"
   ]
  },
  {
   "cell_type": "code",
   "execution_count": null,
   "metadata": {},
   "outputs": [],
   "source": [
    "%tensorboard --logdir logs/fit"
   ]
  }
 ],
 "metadata": {
  "kernelspec": {
   "display_name": "Python 3",
   "language": "python",
   "name": "python3"
  },
  "language_info": {
   "codemirror_mode": {
    "name": "ipython",
    "version": 3
   },
   "file_extension": ".py",
   "mimetype": "text/x-python",
   "name": "python",
   "nbconvert_exporter": "python",
   "pygments_lexer": "ipython3",
   "version": "3.10.10"
  },
  "orig_nbformat": 4
 },
 "nbformat": 4,
 "nbformat_minor": 2
}
